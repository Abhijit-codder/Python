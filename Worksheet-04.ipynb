{
 "cells": [
  {
   "cell_type": "code",
   "execution_count": 1,
   "metadata": {},
   "outputs": [
    {
     "name": "stdout",
     "output_type": "stream",
     "text": [
      "{'name': 'harsh', 'age': '20', 'hobby': ['fooball', 'philosophy']}\n"
     ]
    }
   ],
   "source": [
    "##Write a code to initialise a dictionary using the dict function\n",
    "dictionary1 = dict(name='harsh', age='20', hobby=['fooball', 'philosophy'])\n",
    "\n",
    "print(dictionary1)\n"
   ]
  },
  {
   "cell_type": "code",
   "execution_count": 2,
   "metadata": {},
   "outputs": [
    {
     "name": "stdout",
     "output_type": "stream",
     "text": [
      "['20', 'football', 'harsh']\n"
     ]
    }
   ],
   "source": [
    "##Write a code to get a sorted listed of values in a dictionary\n",
    "dictionary1 = {'name': 'harsh', 'age': '20', 'hobby': 'football'}\n",
    "\n",
    "print(sorted(dictionary1.values()))\n"
   ]
  },
  {
   "cell_type": "code",
   "execution_count": 3,
   "metadata": {},
   "outputs": [
    {
     "name": "stdout",
     "output_type": "stream",
     "text": [
      "{'NAME': 'harsh', 'AGE': '20', 'HOBBY': 'football'}\n"
     ]
    }
   ],
   "source": [
    "##Write a Python code to get a list of the keys in a dictionary and then uppercase all the keys\n",
    "dictionary1 = {'name': 'harsh', 'age': '20', 'hobby': 'football'}\n",
    "dictionary1 = {key.upper(): value for key, value in dictionary1.items()}\n",
    "print(dictionary1)\n"
   ]
  },
  {
   "cell_type": "code",
   "execution_count": null,
   "metadata": {},
   "outputs": [],
   "source": []
  }
 ],
 "metadata": {
  "kernelspec": {
   "display_name": "Python 3 (ipykernel)",
   "language": "python",
   "name": "python3"
  },
  "language_info": {
   "codemirror_mode": {
    "name": "ipython",
    "version": 3
   },
   "file_extension": ".py",
   "mimetype": "text/x-python",
   "name": "python",
   "nbconvert_exporter": "python",
   "pygments_lexer": "ipython3",
   "version": "3.11.5"
  }
 },
 "nbformat": 4,
 "nbformat_minor": 2
}
