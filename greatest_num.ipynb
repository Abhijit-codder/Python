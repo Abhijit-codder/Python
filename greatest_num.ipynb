{
 "cells": [
  {
   "cell_type": "code",
   "execution_count": 1,
   "id": "e9c52b21",
   "metadata": {},
   "outputs": [
    {
     "name": "stdout",
     "output_type": "stream",
     "text": [
      "First Number=34\n",
      "Second=11\n",
      "Third=6\n",
      "Largest= 34\n"
     ]
    }
   ],
   "source": [
    "num1=int(input(\"First Number=\"))\n",
    "num2=int(input(\"Second=\"))\n",
    "num3=int(input(\"Third=\"))\n",
    "if(num1>num2 and num1>num3):\n",
    "    print(\"Largest=\",num1)\n",
    "elif(num2>num1 and num2>num3):\n",
    "    print(\"Largest=\",num2)\n",
    "else:\n",
    "    print(\"Largest=\",num3)"
   ]
  },
  {
   "cell_type": "code",
   "execution_count": null,
   "id": "a8e53f24",
   "metadata": {},
   "outputs": [],
   "source": []
  }
 ],
 "metadata": {
  "kernelspec": {
   "display_name": "Python 3 (ipykernel)",
   "language": "python",
   "name": "python3"
  },
  "language_info": {
   "codemirror_mode": {
    "name": "ipython",
    "version": 3
   },
   "file_extension": ".py",
   "mimetype": "text/x-python",
   "name": "python",
   "nbconvert_exporter": "python",
   "pygments_lexer": "ipython3",
   "version": "3.11.5"
  }
 },
 "nbformat": 4,
 "nbformat_minor": 5
}
