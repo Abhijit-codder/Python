{
 "cells": [
  {
   "cell_type": "code",
   "execution_count": 1,
   "metadata": {},
   "outputs": [
    {
     "name": "stdout",
     "output_type": "stream",
     "text": [
      "Enter a date: 23\n",
      "False\n"
     ]
    }
   ],
   "source": [
    "## Create a code block that returns 'True' if a given date is even and returns 'False' if it is not\n",
    "def is_even_date(date):\n",
    "    return date % 2 == 0\n",
    "\n",
    "date = int(input(\"Enter a date: \"))\n",
    "print(is_even_date(date))\n"
   ]
  },
  {
   "cell_type": "code",
   "execution_count": 2,
   "metadata": {},
   "outputs": [
    {
     "name": "stdout",
     "output_type": "stream",
     "text": [
      "Enter the length of side 1: 2\n",
      "Enter the length of side 2: 4\n",
      "Enter the length of side 3: 5\n",
      "True\n"
     ]
    }
   ],
   "source": [
    "## Create a code block that can identify whether three given values can form the sides of a triangle (Hint: The sum of two sides of a triangle is always larger than the third one)\n",
    "def is_triangle(side1, side2, side3):\n",
    "    return (side1 + side2 > side3) and (side1 + side3 > side2) and (side2 + side3 > side1)\n",
    "\n",
    "side1 = float(input(\"Enter the length of side 1: \"))\n",
    "side2 = float(input(\"Enter the length of side 2: \"))\n",
    "side3 = float(input(\"Enter the length of side 3: \"))\n",
    "print(is_triangle(side1, side2, side3))\n"
   ]
  },
  {
   "cell_type": "code",
   "execution_count": 7,
   "metadata": {},
   "outputs": [
    {
     "name": "stdout",
     "output_type": "stream",
     "text": [
      "Enter the length of side 1: 23\n",
      "Enter the length of side 2: 23\n",
      "Enter the length of side 3: 232\n",
      "False\n"
     ]
    }
   ],
   "source": [
    "## Write a code that returns 'True' if the triangle with the three given sides is an equilateral triangle\n",
    "def is_equilateral(side1, side2, side3):\n",
    "    return side1 == side2 == side3\n",
    "\n",
    "\n",
    "side1 = float(input(\"Enter the length of side 1: \"))\n",
    "side2 = float(input(\"Enter the length of side 2: \"))\n",
    "side3 = float(input(\"Enter the length of side 3: \"))\n",
    "print(is_equilateral(side1, side2, side3))\n"
   ]
  },
  {
   "cell_type": "code",
   "execution_count": 6,
   "metadata": {},
   "outputs": [
    {
     "name": "stdout",
     "output_type": "stream",
     "text": [
      "Enter the length of side 1: 34\n",
      "Enter the length of side 2: 34\n",
      "Enter the length of side 3: 11\n",
      "True\n"
     ]
    }
   ],
   "source": [
    "## Write a code that returns 'True' if the triangle with the three given sides is an isosceles triangle\n",
    "def is_isosceles(side1, side2, side3):\n",
    "    return side1 == side2 or side1 == side3 or side2 == side3\n",
    "\n",
    "side1 = float(input(\"Enter the length of side 1: \"))\n",
    "side2 = float(input(\"Enter the length of side 2: \"))\n",
    "side3 = float(input(\"Enter the length of side 3: \"))\n",
    "print(is_isosceles(side1, side2, side3))\n"
   ]
  },
  {
   "cell_type": "code",
   "execution_count": 5,
   "metadata": {},
   "outputs": [
    {
     "name": "stdout",
     "output_type": "stream",
     "text": [
      "Enter the length of side 1: 2\n",
      "Enter the length of side 2: 4\n",
      "Enter the length of side 3: 5\n",
      "True\n"
     ]
    }
   ],
   "source": [
    "## Write a code that returns 'True' if the triangle with the three given sides is a scalene triangle\n",
    "def is_scalene(side1, side2, side3):\n",
    "    return side1 != side2 != side3 != side1\n",
    "\n",
    "\n",
    "side1 = float(input(\"Enter the length of side 1: \"))\n",
    "side2 = float(input(\"Enter the length of side 2: \"))\n",
    "side3 = float(input(\"Enter the length of side 3: \"))\n",
    "print(is_scalene(side1, side2, side3))\n"
   ]
  },
  {
   "cell_type": "code",
   "execution_count": 4,
   "metadata": {},
   "outputs": [
    {
     "name": "stdout",
     "output_type": "stream",
     "text": [
      "Enter the length of side 1: 34\n",
      "Enter the length of side 2: 54\n",
      "Enter the length of side 3: 23\n",
      "False\n"
     ]
    }
   ],
   "source": [
    "## Write  a code that returns 'True' if the triangle with the three given sides follows the Pythogoras theorem\n",
    "def is_pythagorean(side1, side2, side3):\n",
    "    sides = sorted([side1, side2, side3])\n",
    "    return sides[0]**2 + sides[1]**2 == sides[2]**2\n",
    "side1 = float(input(\"Enter the length of side 1: \"))\n",
    "side2 = float(input(\"Enter the length of side 2: \"))\n",
    "side3 = float(input(\"Enter the length of side 3: \"))\n",
    "print(is_pythagorean(side1, side2, side3))\n"
   ]
  },
  {
   "cell_type": "code",
   "execution_count": null,
   "metadata": {},
   "outputs": [],
   "source": []
  }
 ],
 "metadata": {
  "kernelspec": {
   "display_name": "Python 3 (ipykernel)",
   "language": "python",
   "name": "python3"
  },
  "language_info": {
   "codemirror_mode": {
    "name": "ipython",
    "version": 3
   },
   "file_extension": ".py",
   "mimetype": "text/x-python",
   "name": "python",
   "nbconvert_exporter": "python",
   "pygments_lexer": "ipython3",
   "version": "3.11.5"
  }
 },
 "nbformat": 4,
 "nbformat_minor": 2
}
