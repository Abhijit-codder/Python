{
 "cells": [
  {
   "cell_type": "code",
   "execution_count": 1,
   "metadata": {},
   "outputs": [
    {
     "name": "stdout",
     "output_type": "stream",
     "text": [
      "Enter the number of elements in the list: 3\n",
      "Enter the element: 23\n",
      "Enter the element: 24\n",
      "Enter the element: 25\n",
      "List 1: ['23', '24', '25']\n",
      "Enter the element: 65\n",
      "Enter the element: 45\n",
      "Enter the element: 76\n",
      "List 2: ['65', '45', '76']\n",
      "Nested List before sorting: [['23', '24', '25'], ['65', '45', '76']]\n",
      "Nested List after sorting: [['23', '24', '25'], ['65', '45', '76']]\n"
     ]
    }
   ],
   "source": [
    "##Write a Python code to sort a nested list\n",
    "x = int(input(\"Enter the number of elements in the list: \"))\n",
    "list1 = []\n",
    "for i in range(x):\n",
    "    a = input(\"Enter the element: \")\n",
    "    list1.append(a)\n",
    "\n",
    "print(\"List 1:\", list1)\n",
    "\n",
    "list2 = []\n",
    "for i in range(x):\n",
    "    a = input(\"Enter the element: \")\n",
    "    list2.append(a)\n",
    "\n",
    "print(\"List 2:\", list2)\n",
    "\n",
    "list3 = []\n",
    "list3.append(list1)\n",
    "list3.append(list2)\n",
    "\n",
    "print(\"Nested List before sorting:\", list3)\n",
    "sorted_list = sorted(list3)\n",
    "print(\"Nested List after sorting:\", sorted_list)\n"
   ]
  },
  {
   "cell_type": "code",
   "execution_count": 2,
   "metadata": {},
   "outputs": [
    {
     "name": "stdout",
     "output_type": "stream",
     "text": [
      "Enter the number of elements in list: 2\n",
      "Enter the element: 11\n",
      "Enter the element: 22\n",
      "Original List: ['11', '22']\n",
      "List after replacing third last element with 0: ['11', '22']\n"
     ]
    }
   ],
   "source": [
    "##Write a Python code to replace the third last element in a list by 0\n",
    "a = int(input(\"Enter the number of elements in list: \"))\n",
    "list1 = []\n",
    "for i in range(0, a):\n",
    "    b = input(\"Enter the element: \")\n",
    "    list1.append(b)\n",
    "print(\"Original List:\", list1)\n",
    "\n",
    "for i in range(a - 1, -1, -1):\n",
    "    if i == (a - 3):\n",
    "        list1[i] = '0'\n",
    "        break\n",
    "\n",
    "print(\"List after replacing third last element with 0:\", list1)\n"
   ]
  },
  {
   "cell_type": "code",
   "execution_count": 3,
   "metadata": {},
   "outputs": [
    {
     "name": "stdout",
     "output_type": "stream",
     "text": [
      "Enter the number of elements in list: 4\n",
      "Enter the element: 5\n",
      "Enter the element: 34\n",
      "Enter the element: 2\n",
      "Enter the element: 78\n",
      "List: [5, 34, 2, 78]\n",
      "Maximum: 78\n",
      "Minimum: 2\n"
     ]
    }
   ],
   "source": [
    "##Write a code to get the smallest and largest numbers from a list\n",
    "a = int(input(\"Enter the number of elements in list: \"))\n",
    "list1 = []\n",
    "for i in range(0, a):\n",
    "    b = int(input(\"Enter the element: \"))\n",
    "    list1.append(b)\n",
    "print(\"List:\", list1)\n",
    "print(\"Maximum:\", max(list1))\n",
    "print(\"Minimum:\", min(list1))\n"
   ]
  },
  {
   "cell_type": "code",
   "execution_count": 4,
   "metadata": {},
   "outputs": [
    {
     "name": "stdout",
     "output_type": "stream",
     "text": [
      "Enter the number of elements in list: 3\n",
      "Enter the element: 4\n",
      "Enter the element: 34\n",
      "Enter the element: 22\n",
      "Original List: ['4', '34', '22']\n",
      "List after removing elements starting from index 1: ['4']\n"
     ]
    }
   ],
   "source": [
    "##Write a Python code to print a given list after removing the elements at the even numbered positions\n",
    "a = int(input(\"Enter the number of elements in list: \"))\n",
    "list1 = []\n",
    "for i in range(0, a):\n",
    "    b = input(\"Enter the element: \")\n",
    "    list1.append(b)\n",
    "\n",
    "print(\"Original List:\", list1)\n",
    "\n",
    "del list1[1:]\n",
    "print(\"List after removing elements starting from index 1:\", list1)\n"
   ]
  },
  {
   "cell_type": "code",
   "execution_count": 5,
   "metadata": {},
   "outputs": [
    {
     "name": "stdout",
     "output_type": "stream",
     "text": [
      "Enter the number of elements in the list: 2\n",
      "Enter an element: 34\n",
      "Enter an element: 54\n",
      "List after appending elements: [34, 54]\n",
      "Second largest number in the list: 34\n"
     ]
    }
   ],
   "source": [
    "## Write a Python code to append a list\n",
    "mylist = []\n",
    "for _ in range(int(input(\"Enter the number of elements in the list: \"))):\n",
    "    mylist.append(int(input(\"Enter an element: \")))\n",
    "\n",
    "print(\"List after appending elements:\", mylist)\n",
    "\n",
    "sortedlist = sorted(mylist)\n",
    "if len(sortedlist) < 2:\n",
    "    print(\"List does not contain enough elements.\")\n",
    "else:\n",
    "    print(\"Second largest number in the list:\", sortedlist[-2])\n"
   ]
  },
  {
   "cell_type": "code",
   "execution_count": 6,
   "metadata": {},
   "outputs": [
    {
     "name": "stdout",
     "output_type": "stream",
     "text": [
      "Enter the number of elements in the list: 4\n",
      "Enter an element: 78\n",
      "Enter an element: 56\n",
      "Enter an element: 45\n",
      "Enter an element: 34\n",
      "List after appending elements: [78, 56, 45, 34]\n",
      "Second largest number in the list: 56\n"
     ]
    }
   ],
   "source": [
    "## Write a Python code to find the second largest number in a list\n",
    "mylist = []\n",
    "for _ in range(int(input(\"Enter the number of elements in the list: \"))):\n",
    "    mylist.append(int(input(\"Enter an element: \")))\n",
    "\n",
    "print(\"List after appending elements:\", mylist)\n",
    "\n",
    "sortedlist = sorted(mylist)\n",
    "if len(sortedlist) < 2:\n",
    "    print(\"List does not contain enough elements.\")\n",
    "else:\n",
    "    print(\"Second largest number in the list:\", sortedlist[-2])\n"
   ]
  },
  {
   "cell_type": "code",
   "execution_count": 7,
   "metadata": {},
   "outputs": [
    {
     "name": "stdout",
     "output_type": "stream",
     "text": [
      "Enter the number of elements in the list: 3\n",
      "Enter an element: 45\n",
      "Enter an element: 23\n",
      "Enter an element: 45\n",
      "Original List: [45, 23, 45]\n",
      "List after inserting 0 at odd indices: [45, 0, 23, 45]\n"
     ]
    }
   ],
   "source": [
    "## Write a Python code to insert 0 at all the odd indices in a list\n",
    "mylist = []\n",
    "for _ in range(int(input(\"Enter the number of elements in the list: \"))):\n",
    "    mylist.append(int(input(\"Enter an element: \")))\n",
    "\n",
    "print(\"Original List:\", mylist)\n",
    "\n",
    "\n",
    "for i in range(1, len(mylist), 2):\n",
    "    mylist.insert(i, 0)\n",
    "\n",
    "print(\"List after inserting 0 at odd indices:\", mylist)\n"
   ]
  },
  {
   "cell_type": "code",
   "execution_count": null,
   "metadata": {},
   "outputs": [],
   "source": []
  }
 ],
 "metadata": {
  "kernelspec": {
   "display_name": "Python 3 (ipykernel)",
   "language": "python",
   "name": "python3"
  },
  "language_info": {
   "codemirror_mode": {
    "name": "ipython",
    "version": 3
   },
   "file_extension": ".py",
   "mimetype": "text/x-python",
   "name": "python",
   "nbconvert_exporter": "python",
   "pygments_lexer": "ipython3",
   "version": "3.11.5"
  }
 },
 "nbformat": 4,
 "nbformat_minor": 2
}
