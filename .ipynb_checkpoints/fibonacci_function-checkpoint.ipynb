{
 "cells": [
  {
   "cell_type": "code",
   "execution_count": 14,
   "id": "aed19e58",
   "metadata": {},
   "outputs": [
    {
     "name": "stdout",
     "output_type": "stream",
     "text": [
      "Enter the number of terms for the Fibonacci series: 4\n",
      "0\n",
      "1\n",
      "1\n",
      "2\n"
     ]
    }
   ],
   "source": [
    "def generate_fibonacci(n):\n",
    "    \n",
    "    a=0\n",
    "    b=1\n",
    "    sum=0\n",
    "    count=1\n",
    "    while(count<=n):\n",
    "        print(sum)\n",
    "        count+=1\n",
    "        a=b\n",
    "        b=sum\n",
    "        sum=a+b\n",
    "    \n",
    "num_terms = int(input(\"Enter the number of terms for the Fibonacci series: \"))\n",
    "generate_fibonacci(num_terms)\n"
   ]
  },
  {
   "cell_type": "code",
   "execution_count": null,
   "id": "49d04c27",
   "metadata": {},
   "outputs": [],
   "source": []
  },
  {
   "cell_type": "code",
   "execution_count": null,
   "id": "8a1ab429",
   "metadata": {},
   "outputs": [],
   "source": []
  },
  {
   "cell_type": "code",
   "execution_count": null,
   "id": "7c105bb9",
   "metadata": {},
   "outputs": [],
   "source": []
  }
 ],
 "metadata": {
  "kernelspec": {
   "display_name": "Python 3 (ipykernel)",
   "language": "python",
   "name": "python3"
  },
  "language_info": {
   "codemirror_mode": {
    "name": "ipython",
    "version": 3
   },
   "file_extension": ".py",
   "mimetype": "text/x-python",
   "name": "python",
   "nbconvert_exporter": "python",
   "pygments_lexer": "ipython3",
   "version": "3.11.5"
  }
 },
 "nbformat": 4,
 "nbformat_minor": 5
}
