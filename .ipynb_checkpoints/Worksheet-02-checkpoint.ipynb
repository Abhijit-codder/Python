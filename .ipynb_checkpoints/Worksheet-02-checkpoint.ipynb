{
 "cells": [
  {
   "cell_type": "code",
   "execution_count": 1,
   "metadata": {},
   "outputs": [
    {
     "name": "stdout",
     "output_type": "stream",
     "text": [
      "Enter a string: hello\n",
      "Length of the string: 5\n"
     ]
    }
   ],
   "source": [
    "##Write a code to calculate the length of a given string\n",
    "def calculatestrlen(string):\n",
    "    return len(string)\n",
    "\n",
    "input_string = input(\"Enter a string: \")\n",
    "print(\"Length of the string:\", calculatestrlen(input_string))\n"
   ]
  },
  {
   "cell_type": "code",
   "execution_count": 2,
   "metadata": {},
   "outputs": [
    {
     "name": "stdout",
     "output_type": "stream",
     "text": [
      "Enter the first string: hello\n",
      "Enter the second string: world\n",
      "wollo herld\n"
     ]
    }
   ],
   "source": [
    "##Write a Python code to get a single string from two given strings, separated by a space and swap the first two characters of each string\n",
    "def swapchar(string1, string2):\n",
    "    new_string1 = string2[:2] + string1[2:]\n",
    "    new_string2 = string1[:2] + string2[2:]\n",
    "    return new_string1 + ' ' + new_string2\n",
    "\n",
    "string1 = input(\"Enter the first string: \")\n",
    "string2 = input(\"Enter the second string: \")\n",
    "print(swapchar(string1, string2))\n"
   ]
  },
  {
   "cell_type": "code",
   "execution_count": 3,
   "metadata": {},
   "outputs": [
    {
     "name": "stdout",
     "output_type": "stream",
     "text": [
      "enter the string: science\n",
      "scienceily\n"
     ]
    }
   ],
   "source": [
    "##Write a Python code to add 'ily' at the end of any given string\n",
    "string=input(\"enter the string: \") \n",
    "print(string+\"ily\") \n"
   ]
  },
  {
   "cell_type": "code",
   "execution_count": 4,
   "metadata": {},
   "outputs": [
    {
     "name": "stdout",
     "output_type": "stream",
     "text": [
      "enter the firststring: hello\n",
      "el\n"
     ]
    }
   ],
   "source": [
    "##Write a Python code to get all the even positioned characters in a string\n",
    "string1= input(\"enter the firststring: \") \n",
    "print(string1[1: :2])\n"
   ]
  },
  {
   "cell_type": "code",
   "execution_count": 5,
   "metadata": {},
   "outputs": [
    {
     "name": "stdout",
     "output_type": "stream",
     "text": [
      "Enter a string: harsh\n",
      "hrh\n"
     ]
    }
   ],
   "source": [
    "##Write a Python code to get all the odd positioned characters in a string\n",
    "string = input(\"Enter a string: \")\n",
    "print( string[::2])\n"
   ]
  },
  {
   "cell_type": "code",
   "execution_count": 9,
   "metadata": {},
   "outputs": [
    {
     "name": "stdout",
     "output_type": "stream",
     "text": [
      "enter the firststring:example\n",
      "elpmaxe\n"
     ]
    }
   ],
   "source": [
    "##Write a Python code to reverse a given string\n",
    "string1= input(\"enter the firststring:\") \n",
    "srtingrevarse=string1[: :-1] \n",
    "print(srtingrevarse)\n"
   ]
  },
  {
   "cell_type": "code",
   "execution_count": 7,
   "metadata": {},
   "outputs": [
    {
     "name": "stdout",
     "output_type": "stream",
     "text": [
      "enter the firststring:example\n",
      "exampleelpmaxe\n"
     ]
    }
   ],
   "source": [
    "##Write a Python code to reverse a given string and concatenate it at the end of the originial string\n",
    "string1= input(\"enter the firststring:\") \n",
    "srtingrevarse=string1[: :-1] \n",
    "print(string1+srtingrevarse) \n"
   ]
  },
  {
   "cell_type": "code",
   "execution_count": null,
   "metadata": {},
   "outputs": [],
   "source": []
  }
 ],
 "metadata": {
  "kernelspec": {
   "display_name": "Python 3 (ipykernel)",
   "language": "python",
   "name": "python3"
  },
  "language_info": {
   "codemirror_mode": {
    "name": "ipython",
    "version": 3
   },
   "file_extension": ".py",
   "mimetype": "text/x-python",
   "name": "python",
   "nbconvert_exporter": "python",
   "pygments_lexer": "ipython3",
   "version": "3.11.5"
  }
 },
 "nbformat": 4,
 "nbformat_minor": 2
}
