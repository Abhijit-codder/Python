{
 "cells": [
  {
   "cell_type": "markdown",
   "metadata": {},
   "source": [
    "### Inspect the Structure and Content of Arrays\n",
    "\n",
    "It is helpful to inspect the structure of numpy arrays, especially while working with large arrays. Some attributes of numpy arrays are:\n",
    "* ```shape```: Shape of array (n x m)\n",
    "* ```dtype```: data type (int, float etc.)\n",
    "* ```ndim```: Number of dimensions (or axes)\n",
    "* ```itemsize```: Memory used by each array elememnt in bytes\n",
    "\n",
    "\n",
    "Let's say you are working with a moderately large array of size 1000 x 300. First, you would want to wrap your head around the basic shape and size of the array. "
   ]
  },
  {
   "cell_type": "code",
   "execution_count": 12,
   "metadata": {},
   "outputs": [
    {
     "name": "stdout",
     "output_type": "stream",
     "text": [
      "[0.04589633 0.25128309 0.4926489  0.61734079 0.14142579 0.82005373\n",
      " 0.28416156 0.9131894  0.30958644 0.07236969 0.05171614 0.46717706\n",
      " 0.05245683 0.07252801 0.70514318 0.54701179 0.50345567 0.24695047\n",
      " 0.4169136  0.60831125 0.23205176 0.85637195 0.68023609 0.16320232\n",
      " 0.78503347 0.88297789 0.74117171 0.81981661 0.72519051 0.13034036\n",
      " 0.16871319 0.93239078 0.82655007 0.11159148 0.79496514 0.3991302\n",
      " 0.52093324 0.42335966 0.74966665 0.78715286 0.50433975 0.35761151\n",
      " 0.34068456 0.60074314 0.64903179 0.29948837 0.06765266 0.83556501\n",
      " 0.82451326 0.82747635 0.36885624 0.22997017 0.11482322 0.32803761\n",
      " 0.51080059 0.80177559 0.07551733 0.77287859 0.25743074 0.29608719\n",
      " 0.49419097 0.38223424 0.54846898 0.84050622 0.06368221 0.52726405\n",
      " 0.55006888 0.91313428 0.85086828 0.65439194 0.696016   0.81516484\n",
      " 0.51742919 0.10133869 0.53617418 0.73063223 0.68446425 0.18128484\n",
      " 0.83695627 0.20503682 0.06255395 0.98643386 0.72347202 0.06439678\n",
      " 0.71684451 0.71731666 0.11319251 0.64974543 0.76186744 0.44425084\n",
      " 0.31580296 0.36448245 0.72046121 0.70244308 0.74662349 0.54053005\n",
      " 0.36779808 0.17536968 0.95548006 0.90735223 0.34166013 0.2620627\n",
      " 0.92743672 0.63586401 0.79586628 0.7481004  0.99733029 0.19716125\n",
      " 0.00278712 0.04033405 0.7348798  0.62476878 0.20178959 0.87693642\n",
      " 0.95865548 0.01699166 0.99885926 0.50006161 0.01952773 0.6415643\n",
      " 0.86428708 0.79221026 0.86684119 0.19717569 0.97613732 0.35063921\n",
      " 0.16277045 0.07550754 0.55173518 0.46529168 0.60917097 0.06361797\n",
      " 0.66545561 0.93464002 0.76033735 0.91163857 0.33561205 0.03750854\n",
      " 0.75826227 0.69898485 0.09200693 0.29247687 0.1342181  0.13884403\n",
      " 0.18174307 0.28195058 0.43285814 0.42370511 0.40253592 0.45182093\n",
      " 0.47828309 0.23089245 0.83879669 0.17388988 0.73362082 0.88532572\n",
      " 0.51580916 0.5431561  0.65474114 0.65761496 0.33327245 0.86889989\n",
      " 0.9193897  0.44957225 0.81532    0.68125799 0.41093705 0.68303223\n",
      " 0.94491241 0.85372941 0.6194659  0.62290676 0.31380425 0.23802747\n",
      " 0.39113727 0.4911385  0.67233915 0.24682079 0.2650762  0.919514\n",
      " 0.40464183 0.95607127 0.30740585 0.36263141 0.43659798 0.19436189\n",
      " 0.99667094 0.2472562  0.22327793 0.50599253 0.23627302 0.39261694\n",
      " 0.23859442 0.98602369 0.040887   0.07977521 0.51794332 0.27216692\n",
      " 0.6209037  0.51311111 0.24532451 0.44951498 0.55239443 0.98237086\n",
      " 0.913469   0.7059913  0.58249501 0.30980458 0.85215371 0.41053115\n",
      " 0.85266268 0.77445036 0.03614242 0.95620836 0.07666395 0.14454718\n",
      " 0.88105412 0.97027013 0.61346084 0.65208809 0.79101309 0.70315079\n",
      " 0.71222904 0.82617787 0.3866261  0.11209791 0.13971316 0.8770906\n",
      " 0.63864013 0.21072935 0.43323714 0.82338207 0.5164602  0.89712538\n",
      " 0.98128457 0.66157064 0.12536285 0.30299635 0.1405671  0.75195369\n",
      " 0.95585839 0.23862584 0.54363667 0.03973371 0.83274794 0.5686143\n",
      " 0.68629742 0.72262801 0.03237674 0.06522067 0.86604461 0.5113663\n",
      " 0.91220656 0.08162473 0.25063724 0.24755133 0.53092479 0.22626669\n",
      " 0.21460895 0.73359179 0.13546723 0.88085195 0.58736751 0.02034179\n",
      " 0.8623658  0.86136721 0.39292045 0.07937132 0.48177363 0.93796304\n",
      " 0.56926448 0.66395282 0.08162758 0.08510447 0.35383558 0.61531933\n",
      " 0.60564754 0.67071169 0.61769171 0.65182023 0.27284836 0.34726887\n",
      " 0.51269483 0.74365907 0.38042168 0.05170038 0.86957664 0.91670575\n",
      " 0.39048256 0.68475669 0.89274993 0.14528611 0.75848447 0.56036615\n",
      " 0.10816997 0.78149335 0.11614254 0.42448051 0.40676233 0.17306677]\n"
     ]
    }
   ],
   "source": [
    "# Initialising a random 1000 x 300 array\n",
    "rand_array = np.random.random((1000,300))\n",
    "\n",
    "# Print the second row\n",
    "print(rand_array[1, ])"
   ]
  },
  {
   "cell_type": "code",
   "execution_count": 21,
   "metadata": {},
   "outputs": [
    {
     "name": "stdout",
     "output_type": "stream",
     "text": [
      "Shape: (1000, 300)\n",
      "dtype: float64\n",
      "Dimensions: 2\n",
      "Item size: 8\n"
     ]
    }
   ],
   "source": [
    "# Inspecting shape, dtype, ndim and itemsize\n",
    "print(\"Shape: {}\".format(rand_array.shape))\n",
    "print(\"dtype: {}\".format(rand_array.dtype))\n",
    "print(\"Dimensions: {}\".format(rand_array.ndim))\n",
    "print(\"Item size: {}\".format(rand_array.itemsize))"
   ]
  },
  {
   "cell_type": "markdown",
   "metadata": {},
   "source": [
    "Reading 3-D arrays is not very obvious, because we can only print maximum two dimensions on paper, and thus they are printed according to a specific convention. Printing higher dimensional arrays follows the following conventions:\n",
    "* The last axis is printed from left to right\n",
    "* The second-to-last axis is printed from top to bottom\n",
    "* The other axes are also printed top-to-bottom, with each slice separated by another using an empty line \n",
    "\n",
    "Let's see some examples."
   ]
  },
  {
   "cell_type": "code",
   "execution_count": 8,
   "metadata": {},
   "outputs": [
    {
     "name": "stdout",
     "output_type": "stream",
     "text": [
      "[[[ 0  1  2  3]\n",
      "  [ 4  5  6  7]\n",
      "  [ 8  9 10 11]]\n",
      "\n",
      " [[12 13 14 15]\n",
      "  [16 17 18 19]\n",
      "  [20 21 22 23]]]\n"
     ]
    }
   ],
   "source": [
    "# Creating a 3-D array\n",
    "# reshape() simply reshapes a 1-D array \n",
    "import numpy as np\n",
    "array_3d = np.arange(24).reshape(2, 3,4)\n",
    "print(array_3d)"
   ]
  },
  {
   "cell_type": "markdown",
   "metadata": {},
   "source": [
    "* The last axis has 4 elements, and is printed from left to right.\n",
    "* The second last has 3, and is printed top to bottom\n",
    "* The other axis has 2, and is printed in the two separated blocks"
   ]
  }
 ],
 "metadata": {
  "kernelspec": {
   "display_name": "Python 3 (ipykernel)",
   "language": "python",
   "name": "python3"
  },
  "language_info": {
   "codemirror_mode": {
    "name": "ipython",
    "version": 3
   },
   "file_extension": ".py",
   "mimetype": "text/x-python",
   "name": "python",
   "nbconvert_exporter": "python",
   "pygments_lexer": "ipython3",
   "version": "3.11.5"
  }
 },
 "nbformat": 4,
 "nbformat_minor": 2
}
